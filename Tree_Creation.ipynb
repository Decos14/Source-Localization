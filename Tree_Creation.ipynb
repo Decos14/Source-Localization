{
 "cells": [
  {
   "cell_type": "code",
   "execution_count": 1,
   "metadata": {},
   "outputs": [],
   "source": [
    "import numpy as np\n",
    "from Prufer import Prufer_to_Tree\n",
    "from Prufer import Tree_to_Prufer"
   ]
  },
  {
   "cell_type": "code",
   "execution_count": 2,
   "metadata": {},
   "outputs": [],
   "source": [
    "# Function that builds the tree, The structure is a dictionary with entries in the form of \"(node,node) : [(distribution, parameters), mgf, edge delay]\"\n",
    "#TODO Scikit-Bio tree class\n",
    "#TODO Prufer sequence to my text file and inverse\n",
    "#TODO look around at tree visualizers: different colored sources and observers, different edge lengths based on edge delays, ete3 (etetoolkit)\n",
    "def Build_Tree(file_name):\n",
    "    with open(file_name,\"r\") as filestream:\n",
    "\n",
    "        tree = {}\n",
    "\n",
    "        for line in filestream:\n",
    "            curr = line.split(\",\")\n",
    "            curr[len(curr)-1] = curr[len(curr)-1].replace('\\n','')\n",
    "            dist = curr[2]\n",
    "            if dist == 'N':\n",
    "                mu = float(curr[3])\n",
    "                sigma2 = float(curr[4])\n",
    "                tree[frozenset({curr[0],curr[1]})] = [(dist,mu,sigma2),lambda t:np.exp(mu*t)*np.exp((1/2)*(sigma2**2)*(t**2)),0]\n",
    "            if dist == 'E':\n",
    "                lam = float(curr[3])\n",
    "                tree[frozenset({curr[0],curr[1]})] = [(dist,lam),lambda t: lam/(lam-t),0]\n",
    "            if dist == 'U':\n",
    "                a = float(curr[3])\n",
    "                b = float(curr[4])\n",
    "                tree[frozenset({curr[0],curr[1]})] = [(dist,a,b),lambda t: (np.exp(t*b)-np.exp(t*a))/(t*(b-a)),0]\n",
    "            if dist == 'P':\n",
    "                lam = float(curr[3])\n",
    "                tree[frozenset({curr[0],curr[1]})] = [(dist,lam),lambda t: np.exp(lam*(np.exp(t)-1)),0]\n",
    "        return tree"
   ]
  },
  {
   "cell_type": "code",
   "execution_count": 3,
   "metadata": {},
   "outputs": [],
   "source": [
    "#Simulates the edge delay of a single edge\n",
    "def Simulate(value):\n",
    "    dist = value[0][0]\n",
    "    if dist == 'N':\n",
    "        value[2] = np.random.normal(value[0][1],value[0][2])\n",
    "    if dist == 'E':\n",
    "        value[2] = np.random.exponential(value[0][1])\n",
    "    if dist == 'U':\n",
    "        value[2] = np.random.uniform(value[0][1],value[0][2])\n",
    "    if dist == 'P':\n",
    "        value[2] = np.random.poisson(value[0][1])\n",
    "\n",
    "#Uses the distribution and parameters stored in the tree to simulate the edge delays for each edge.\n",
    "def Simulate_Edges(tree):\n",
    "    for edge in tree:\n",
    "        Simulate(tree[edge])"
   ]
  },
  {
   "cell_type": "code",
   "execution_count": 4,
   "metadata": {},
   "outputs": [],
   "source": [
    "#Creates a tree object that can be more easily handled in the form of a dictionary where every key is a node and every value stored at the key is every adjacent node to the key\n",
    "def Connection_Tree(tree):\n",
    "    connection_tree = {}\n",
    "    for keys in tree:\n",
    "\n",
    "        nodes = []\n",
    "        for node in keys:\n",
    "            nodes.append(node)\n",
    "        \n",
    "        if nodes[0] not in connection_tree:\n",
    "            connection_tree[nodes[0]] = set(nodes[1])\n",
    "        if nodes[1] not in connection_tree:\n",
    "            connection_tree[nodes[1]] = set(nodes[0])\n",
    "        if nodes[0] in connection_tree:\n",
    "            connection_tree[nodes[0]].add(nodes[1])\n",
    "        if nodes[1] in connection_tree:\n",
    "            connection_tree[nodes[1]].add(nodes[0])\n",
    "    return connection_tree\n",
    "\n",
    "#Does a recursive DFS on a tree between two given nodes\n",
    "def DFS(connection_tree, source, observer):\n",
    "    stack = [(source, [source])]\n",
    "    visited = set()\n",
    "    while stack:\n",
    "        (vertex, path) = stack.pop()\n",
    "        if vertex not in visited:\n",
    "            if vertex == observer:\n",
    "                return path\n",
    "            visited.add(vertex)\n",
    "            for neighbor in connection_tree[vertex]:\n",
    "                stack.append((neighbor,path + [neighbor]))\n",
    "\n",
    "#Converts a path in the form of consecutive nodes into a path in the form of consecutive edges\n",
    "def Path_Edge(path):\n",
    "    edges = []\n",
    "    for i in range(len(path)-1):\n",
    "        edges.append(frozenset({path[i],path[i+1]}))\n",
    "    return edges\n",
    "\n",
    "#Simulates the infection from a given source node to an observer node\n",
    "def Infection_Simulation(tree, observers, source):\n",
    "    infection_times = {}\n",
    "    connection_tree = Connection_Tree(tree)\n",
    "\n",
    "    #Finds the path each observer to the source using DFS and then adds up the edge costs stored in the tree on those paths\n",
    "    for observer in observers:\n",
    "        path = DFS(connection_tree, source, observer)\n",
    "        edges = Path_Edge(path)\n",
    "        time = 0\n",
    "        for edge in edges:\n",
    "            time += tree[edge][2]\n",
    "        infection_times[observer] = time\n",
    "    return infection_times"
   ]
  },
  {
   "cell_type": "code",
   "execution_count": 5,
   "metadata": {},
   "outputs": [],
   "source": [
    "#Finds the joint moment generating function for a set of observer nodes with corresponding times and returns the mgf evaluated at those times.\n",
    "#Returns a dictionary of the form \"source : phi(t|s = source)\"\n",
    "\n",
    "def Joint_MGF(tree,connection_tree,observers):\n",
    "    sources = {}\n",
    "\n",
    "    #Finds the list of possible observer nodes\n",
    "    for node in connection_tree:\n",
    "        if node not in observers:\n",
    "            sources[node] = 0\n",
    "\n",
    "    #Finds the joint mgf for each possible source\n",
    "    for node in sources:\n",
    "        edges = []\n",
    "        mgf = 1\n",
    "\n",
    "        #creates an list where each element is the path from the source node to each observer\n",
    "        for key in observers:\n",
    "            path = DFS(connection_tree,node,key)\n",
    "            edges.append([key,Path_Edge(path)])\n",
    "        path_eval = {}\n",
    "\n",
    "        #Creates a dictionary of the form \"edge: sum of t's that use that edge\"\n",
    "        for i in range(len(edges)):\n",
    "            for edge in edges[i][1]:\n",
    "                if edge not in path_eval:\n",
    "                    path_eval[edge] = observers[edges[i][0]]\n",
    "                else:\n",
    "                    path_eval[edge] += observers[edges[i][0]]\n",
    "\n",
    "        #Evaluates the joint mgf using the dictionary\n",
    "        for edge in path_eval:\n",
    "            phi = tree[edge][1](path_eval[edge])\n",
    "            mgf = mgf * phi\n",
    "            \n",
    "        sources[node] = mgf\n",
    "    return sources"
   ]
  },
  {
   "cell_type": "code",
   "execution_count": 6,
   "metadata": {},
   "outputs": [
    {
     "name": "stdout",
     "output_type": "stream",
     "text": [
      "{'b': 7.817513617382336, 'c': 6.149474015700122, 'e': 11.889582274795437, 'f': 12.633683645845965}\n",
      "7.817513617382336\n",
      "6.149474015700122\n",
      "11.889582274795437\n",
      "12.633683645845963\n"
     ]
    }
   ],
   "source": [
    "#Some Testing for the joint mgf function\n",
    "Tree = Build_Tree(\"test.txt\")\n",
    "connection_tree = Connection_Tree(Tree)\n",
    "Simulate_Edges(Tree)\n",
    "\n",
    "ta = .4\n",
    "td = .8\n",
    "\n",
    "observers = {'a': ta, 'd':td}\n",
    "\n",
    "print(Joint_MGF(Tree, connection_tree, observers))\n",
    "\n",
    "\n",
    "print(Tree[frozenset({'a','b'})][1](ta)*Tree[frozenset({'c','b'})][1](td)*Tree[frozenset({'c','d'})][1](td)) #phi(t|s=b)\n",
    "\n",
    "print(Tree[frozenset({'a','b'})][1](ta)*Tree[frozenset({'c','b'})][1](ta)*Tree[frozenset({'c','d'})][1](td)) #phi(t|s=c)\n",
    "\n",
    "print(Tree[frozenset({'a','b'})][1](ta)*Tree[frozenset({'c','b'})][1](ta)*Tree[frozenset({'c','e'})][1](ta+td)*Tree[frozenset({'c','d'})][1](td)) #phi(t|s=e)\n",
    "\n",
    "print(Tree[frozenset({'a','b'})][1](ta)*Tree[frozenset({'c','b'})][1](ta)*Tree[frozenset({'c','f'})][1](ta+td)*Tree[frozenset({'c','d'})][1](td)) #phi(t|s=e)"
   ]
  },
  {
   "cell_type": "code",
   "execution_count": 9,
   "metadata": {},
   "outputs": [
    {
     "name": "stdout",
     "output_type": "stream",
     "text": [
      "{1: [4], 2: [3, 6, 7], 3: [2], 4: [1, 6], 5: [7], 6: [4, 2], 7: [5, 2]}\n",
      "[4, 2, 6, 7, 2]\n"
     ]
    }
   ],
   "source": [
    "tree = Prufer_to_Tree([4,2,6,7,2])\n",
    "print(tree)\n",
    "seq = Tree_to_Prufer(tree)\n",
    "print(seq)"
   ]
  }
 ],
 "metadata": {
  "kernelspec": {
   "display_name": "Python 3",
   "language": "python",
   "name": "python3"
  },
  "language_info": {
   "codemirror_mode": {
    "name": "ipython",
    "version": 3
   },
   "file_extension": ".py",
   "mimetype": "text/x-python",
   "name": "python",
   "nbconvert_exporter": "python",
   "pygments_lexer": "ipython3",
   "version": "3.10.11"
  }
 },
 "nbformat": 4,
 "nbformat_minor": 2
}
