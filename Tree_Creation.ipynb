{
 "cells": [
  {
   "cell_type": "code",
   "execution_count": 80,
   "metadata": {},
   "outputs": [],
   "source": [
    "import numpy as np"
   ]
  },
  {
   "cell_type": "code",
   "execution_count": 96,
   "metadata": {},
   "outputs": [],
   "source": [
    "def Build_Tree(file_name):\n",
    "    file = open(file_name)\n",
    "\n",
    "    tree = {}\n",
    "\n",
    "    for line in file:\n",
    "        dist = line[4:5]\n",
    "        if dist == 'N':\n",
    "            mu = int(line[6:7])\n",
    "            sigma = int(line[8:9])\n",
    "            tree[(line[:1],line[2:3])] = [(dist,mu,sigma),lambda t:np.exp(mu*t)*np.exp((1/2)*(sigma**2)*(t**2)),0]\n",
    "        if dist == 'E':\n",
    "            lam = int(line[6:7])\n",
    "            tree[(line[:1],line[2:3])] = [(dist,lam),lambda t: lam/(lam-t),0]\n",
    "        if dist == 'U':\n",
    "            a = int(line[6:7])\n",
    "            b = int(line[8:9])\n",
    "            tree[(line[:1],line[2:3])] = [(dist,a,b),lambda t: (np.exp(t*b)-np.exp(t*a))/(t*(b-a)),0]\n",
    "        if dist == 'P':\n",
    "            lam = int(line[6:7])\n",
    "            tree[(line[:1],line[2:3])] = [(dist,lam),lambda t: np.exp(lam*(np.exp(t)-1)),0]\n",
    "    return tree"
   ]
  },
  {
   "cell_type": "code",
   "execution_count": 151,
   "metadata": {},
   "outputs": [],
   "source": [
    "def Simulate(value):\n",
    "    dist = value[0][0]\n",
    "    if dist == 'N':\n",
    "        value[2] = np.random.normal(value[0][1],value[0][2])\n",
    "    if dist == 'E':\n",
    "        value[2] = np.random.exponential(value[0][1])\n",
    "    if dist == 'U':\n",
    "        value[2] = np.random.uniform(value[0][1],value[0][2])\n",
    "    if dist == 'P':\n",
    "        value[2] = np.random.poisson(value[0][1])\n",
    "\n",
    "def Simulate_Edges(tree):\n",
    "    for keys in tree:\n",
    "        Simulate(tree[keys])\n",
    "\n",
    "Tree = Build_Tree(\"test.txt\")\n",
    "Simulate_Edges(Tree)"
   ]
  },
  {
   "cell_type": "code",
   "execution_count": 150,
   "metadata": {},
   "outputs": [
    {
     "name": "stdout",
     "output_type": "stream",
     "text": [
      "[1.233021804323024, 0]\n"
     ]
    }
   ],
   "source": [
    "def Connection_Tree(tree):\n",
    "    connection_tree = {}\n",
    "    for keys in tree:\n",
    "        if keys[0] not in connection_tree:\n",
    "            connection_tree[keys[0]] = set(keys[1])\n",
    "        if keys[1] not in connection_tree:\n",
    "            connection_tree[keys[1]] = set(keys[0])\n",
    "        if keys[0] in connection_tree:\n",
    "            connection_tree[keys[0]].add(keys[1])\n",
    "        if keys[1] in connection_tree:\n",
    "            connection_tree[keys[1]].add(keys[0])\n",
    "    return connection_tree\n",
    "\n",
    "def DFS(connection_tree, source, observer: chr):\n",
    "    stack = [(source, [source])]\n",
    "    visited = set()\n",
    "    while stack:\n",
    "        (vertex, path) = stack.pop()\n",
    "        if vertex not in visited:\n",
    "            if vertex == observer:\n",
    "                return path\n",
    "            visited.add(vertex)\n",
    "            for neighbor in connection_tree[vertex]:\n",
    "                stack.append((neighbor,path + [neighbor]))\n",
    "\n",
    "def Path_Edge(path):\n",
    "    edges = []\n",
    "    for i in range(len(path)-1):\n",
    "        edges.append((path[i],path[i+1]))\n",
    "    return edges\n",
    "\n",
    "def Infection_Simulation(tree, observers, source):\n",
    "    infection_times = []\n",
    "    connection_tree = Connection_Tree(tree)\n",
    "    for observer in observers:\n",
    "        path = DFS(connection_tree, source, observer)\n",
    "        edges = Path_Edge(path)\n",
    "        time = 0\n",
    "        for key in edges:\n",
    "            if key in Tree:\n",
    "                time += Tree[key][2]\n",
    "            else:\n",
    "                flipped_key = (key[1],key[0])\n",
    "                time += Tree[flipped_key][2]\n",
    "        infection_times.append(time)\n",
    "    return infection_times"
   ]
  }
 ],
 "metadata": {
  "kernelspec": {
   "display_name": "Python 3",
   "language": "python",
   "name": "python3"
  },
  "language_info": {
   "codemirror_mode": {
    "name": "ipython",
    "version": 3
   },
   "file_extension": ".py",
   "mimetype": "text/x-python",
   "name": "python",
   "nbconvert_exporter": "python",
   "pygments_lexer": "ipython3",
   "version": "3.10.11"
  }
 },
 "nbformat": 4,
 "nbformat_minor": 2
}
