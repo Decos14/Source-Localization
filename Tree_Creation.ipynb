{
 "cells": [
  {
   "cell_type": "code",
   "execution_count": 80,
   "metadata": {},
   "outputs": [],
   "source": [
    "import numpy as np"
   ]
  },
  {
   "cell_type": "code",
   "execution_count": 96,
   "metadata": {},
   "outputs": [],
   "source": [
    "def Build_Tree(file_name):\n",
    "    file = open(file_name)\n",
    "\n",
    "    Tree = {}\n",
    "\n",
    "    for line in file:\n",
    "        dist = line[4:5]\n",
    "        if dist == 'N':\n",
    "            mu = int(line[6:7])\n",
    "            sigma = int(line[8:9])\n",
    "            Tree[(line[:1],line[2:3])] = [(dist,mu,sigma),lambda t:np.exp(mu*t)*np.exp((1/2)*(sigma**2)*(t**2)),0]\n",
    "        if dist == 'E':\n",
    "            lam = int(line[6:7])\n",
    "            Tree[(line[:1],line[2:3])] = [(dist,lam),lambda t: lam/(lam-t),0]\n",
    "        if dist == 'U':\n",
    "            a = int(line[6:7])\n",
    "            b = int(line[8:9])\n",
    "            Tree[(line[:1],line[2:3])] = [(dist,a,b),lambda t: (np.exp(t*b)-np.exp(t*a))/(t*(b-a)),0]\n",
    "        if dist == 'P':\n",
    "            lam = int(line[6:7])\n",
    "            Tree[(line[:1],line[2:3])] = [(dist,lam),lambda t: np.exp(lam*(np.exp(t)-1)),0]\n",
    "    return Tree"
   ]
  },
  {
   "cell_type": "code",
   "execution_count": 105,
   "metadata": {},
   "outputs": [
    {
     "name": "stdout",
     "output_type": "stream",
     "text": [
      "{('a', 'b'): [('E', 1), <function Build_Tree.<locals>.<lambda> at 0x0000012DD09500D0>, 2.025618582126749], ('b', 'c'): [('N', 0, 1), <function Build_Tree.<locals>.<lambda> at 0x0000012DF1165FC0>, -0.7925967778037252], ('c', 'd'): [('P', 1), <function Build_Tree.<locals>.<lambda> at 0x0000012DF1166170>, 0], ('c', 'e'): [('U', 0, 1), <function Build_Tree.<locals>.<lambda> at 0x0000012DF1164DC0>, 0.32590615867165196], ('c', 'f'): [('N', 0, 1), <function Build_Tree.<locals>.<lambda> at 0x0000012DF1165900>, -0.047730086562661755]}\n",
      "2.025618582126749\n",
      "-0.7925967778037252\n",
      "0\n",
      "0.32590615867165196\n",
      "-0.047730086562661755\n"
     ]
    }
   ],
   "source": [
    "def Simulate(value):\n",
    "    dist = value[0][0]\n",
    "    if dist == 'N':\n",
    "        value[2] = np.random.normal(value[0][1],value[0][2])\n",
    "    if dist == 'E':\n",
    "        value[2] = np.random.exponential(value[0][1])\n",
    "    if dist == 'U':\n",
    "        value[2] = np.random.uniform(value[0][1],value[0][2])\n",
    "    if dist == 'P':\n",
    "        value[2] = np.random.poisson(value[0][1])\n",
    "\n",
    "def Simulate_Edges(Tree):\n",
    "    for keys in Tree:\n",
    "        Simulate(Tree[keys])\n",
    "\n",
    "Tree = Build_Tree(\"test.txt\")\n",
    "Simulate_Edges(Tree)"
   ]
  }
 ],
 "metadata": {
  "kernelspec": {
   "display_name": "Python 3",
   "language": "python",
   "name": "python3"
  },
  "language_info": {
   "codemirror_mode": {
    "name": "ipython",
    "version": 3
   },
   "file_extension": ".py",
   "mimetype": "text/x-python",
   "name": "python",
   "nbconvert_exporter": "python",
   "pygments_lexer": "ipython3",
   "version": "3.10.11"
  }
 },
 "nbformat": 4,
 "nbformat_minor": 2
}
